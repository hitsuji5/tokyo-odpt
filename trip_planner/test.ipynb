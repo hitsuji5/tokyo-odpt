{
 "cells": [
  {
   "cell_type": "code",
   "execution_count": 1,
   "metadata": {},
   "outputs": [],
   "source": [
    "%load_ext autoreload\n",
    "%autoreload 2\n",
    "import json\n",
    "import numpy as np\n",
    "import pandas as pd\n",
    "import folium\n",
    "import matplotlib.pyplot as plt"
   ]
  },
  {
   "cell_type": "code",
   "execution_count": 2,
   "metadata": {},
   "outputs": [
    {
     "data": {
      "text/plain": [
       "array([  35.72456923,  139.7570725 ])"
      ]
     },
     "execution_count": 2,
     "metadata": {},
     "output_type": "execute_result"
    }
   ],
   "source": [
    "from search_engine import search_engine\n",
    "\n",
    "origin = search_engine.bus_network.bus_stops_location[0]\n",
    "origin"
   ]
  },
  {
   "cell_type": "code",
   "execution_count": 12,
   "metadata": {},
   "outputs": [],
   "source": [
    "from trip_planner import BusTripPlanner\n",
    "\n",
    "bus_trip_planner = BusTripPlanner()"
   ]
  },
  {
   "cell_type": "code",
   "execution_count": 20,
   "metadata": {},
   "outputs": [
    {
     "name": "stdout",
     "output_type": "stream",
     "text": [
      "(Node; level: 1 children: 11 visits: 16; reward: 0.6, 2.9012584050313204)\n",
      "(Node; level: 2 children: 1 visits: 3; reward: 0.7, 2.4209109462901419)\n",
      "(Node; level: 2 children: 2 visits: 4; reward: 0.7, 2.4134860981596917)\n",
      "(Node; level: 2 children: 2 visits: 4; reward: 1.1, 2.2556547946841734)\n",
      "(Node; level: 1 children: 10 visits: 14; reward: 0.6, 2.1880305126001867)\n",
      "CPU times: user 628 ms, sys: 2.63 ms, total: 631 ms\n",
      "Wall time: 632 ms\n"
     ]
    }
   ],
   "source": [
    "%%time\n",
    "journeys = bus_trip_planner.plan(origin, 9*3600, 13*3600, 200, 5)"
   ]
  },
  {
   "cell_type": "code",
   "execution_count": 21,
   "metadata": {},
   "outputs": [],
   "source": [
    "itinerary = journeys[0]"
   ]
  },
  {
   "cell_type": "code",
   "execution_count": 22,
   "metadata": {},
   "outputs": [
    {
     "data": {
      "text/plain": [
       "[{'arrival_location': [35.721005859999998, 139.75576169999999],\n",
       "  'arrival_time': 32916,\n",
       "  'departure_location': [35.72456923, 139.75707249999999],\n",
       "  'departure_time': 32400,\n",
       "  'mode': 'walk',\n",
       "  'place_id': u'odpt.BusstopPole:Toei.Mukougaokaicchoume.1511.2',\n",
       "  'place_type': 'bus_stop',\n",
       "  'route_id': None},\n",
       " {'arrival_location': [35.698363720000003, 139.76987299999999],\n",
       "  'arrival_time': 34117,\n",
       "  'departure_location': [35.721005859999998, 139.75576169999999],\n",
       "  'departure_time': 33216,\n",
       "  'mode': 'bus',\n",
       "  'place_id': u'odpt.BusstopPole:Toei.Manseibashi.1440.1',\n",
       "  'place_type': 'bus_stop',\n",
       "  'route_id': u'odpt.BusroutePattern:Toei.Cha51.36302.1'},\n",
       " {'arrival_location': [35.696212799999998, 139.76905880000001],\n",
       "  'arrival_time': 34730,\n",
       "  'departure_location': [35.698363720000003, 139.76987299999999],\n",
       "  'departure_time': 34417,\n",
       "  'mode': 'walk',\n",
       "  'place_id': 'ChIJQXG-SgOMGGARUM-2-MxSm4o',\n",
       "  'place_type': 'spot',\n",
       "  'route_id': None},\n",
       " {'arrival_location': [35.696155700000006, 139.76763590000002],\n",
       "  'arrival_time': 36691,\n",
       "  'departure_location': [35.696212799999998, 139.76905880000001],\n",
       "  'departure_time': 36530,\n",
       "  'mode': 'walk',\n",
       "  'place_id': 'ChIJa-BaVhuMGGARouYQYPE4Zfo',\n",
       "  'place_type': 'spot',\n",
       "  'route_id': None},\n",
       " {'arrival_location': [35.697059459999998, 139.7707585],\n",
       "  'arrival_time': 38865,\n",
       "  'departure_location': [35.696155700000006, 139.76763590000002],\n",
       "  'departure_time': 38491,\n",
       "  'mode': 'walk',\n",
       "  'place_id': u'odpt.BusstopPole:Toei.Sudachou.784.3',\n",
       "  'place_type': 'bus_stop',\n",
       "  'route_id': None},\n",
       " {'arrival_location': [35.709150389999998, 139.81276579999999],\n",
       "  'arrival_time': 40498,\n",
       "  'departure_location': [35.697059459999998, 139.7707585],\n",
       "  'departure_time': 39165,\n",
       "  'mode': 'bus',\n",
       "  'place_id': u'odpt.BusstopPole:Toei.Oshiage.276.4',\n",
       "  'place_type': 'bus_stop',\n",
       "  'route_id': u'odpt.BusroutePattern:Toei.S-1.52815.1'},\n",
       " {'arrival_location': [35.708040000000004, 139.81172800000002],\n",
       "  'arrival_time': 40992,\n",
       "  'departure_location': [35.709150389999998, 139.81276579999999],\n",
       "  'departure_time': 40798,\n",
       "  'mode': 'walk',\n",
       "  'place_id': 'ChIJhwe1ztWOGGARqSIgKZFkknM',\n",
       "  'place_type': 'spot',\n",
       "  'route_id': None},\n",
       " {'arrival_location': [35.710075000000003, 139.8125924],\n",
       "  'arrival_time': 43091,\n",
       "  'departure_location': [35.708040000000004, 139.81172800000002],\n",
       "  'departure_time': 42792,\n",
       "  'mode': 'walk',\n",
       "  'place_id': 'ChIJz5mfFNaOGGARSOjOC1MCWTY',\n",
       "  'place_type': 'spot',\n",
       "  'route_id': None},\n",
       " {'arrival_location': [35.710091999999996, 139.81252680000003],\n",
       "  'arrival_time': 44899,\n",
       "  'departure_location': [35.710075000000003, 139.8125924],\n",
       "  'departure_time': 44891,\n",
       "  'mode': 'walk',\n",
       "  'place_id': 'ChIJC6JR8NaOGGARawpKUhPhLAU',\n",
       "  'place_type': 'spot',\n",
       "  'route_id': None}]"
      ]
     },
     "execution_count": 22,
     "metadata": {},
     "output_type": "execute_result"
    }
   ],
   "source": [
    "itinerary"
   ]
  },
  {
   "cell_type": "code",
   "execution_count": 16,
   "metadata": {
    "scrolled": true
   },
   "outputs": [
    {
     "ename": "KeyError",
     "evalue": "'start_location'",
     "output_type": "error",
     "traceback": [
      "\u001b[0;31m---------------------------------------------------------------------------\u001b[0m",
      "\u001b[0;31mKeyError\u001b[0m                                  Traceback (most recent call last)",
      "\u001b[0;32m<ipython-input-16-218391a18999>\u001b[0m in \u001b[0;36m<module>\u001b[0;34m()\u001b[0m\n\u001b[1;32m      2\u001b[0m \u001b[0mwalk_shapes\u001b[0m \u001b[0;34m=\u001b[0m \u001b[0;34m[\u001b[0m\u001b[0;34m]\u001b[0m\u001b[0;34m\u001b[0m\u001b[0m\n\u001b[1;32m      3\u001b[0m \u001b[0;32mfor\u001b[0m \u001b[0mt\u001b[0m \u001b[0;32min\u001b[0m \u001b[0mitinerary\u001b[0m\u001b[0;34m:\u001b[0m\u001b[0;34m\u001b[0m\u001b[0m\n\u001b[0;32m----> 4\u001b[0;31m     \u001b[0mshape\u001b[0m \u001b[0;34m=\u001b[0m \u001b[0;34m(\u001b[0m\u001b[0mt\u001b[0m\u001b[0;34m[\u001b[0m\u001b[0;34m'start_location'\u001b[0m\u001b[0;34m]\u001b[0m\u001b[0;34m,\u001b[0m \u001b[0mt\u001b[0m\u001b[0;34m[\u001b[0m\u001b[0;34m'end_location'\u001b[0m\u001b[0;34m]\u001b[0m\u001b[0;34m)\u001b[0m\u001b[0;34m\u001b[0m\u001b[0m\n\u001b[0m\u001b[1;32m      5\u001b[0m     \u001b[0;32mif\u001b[0m \u001b[0mt\u001b[0m\u001b[0;34m[\u001b[0m\u001b[0;34m'mode'\u001b[0m\u001b[0;34m]\u001b[0m \u001b[0;34m==\u001b[0m \u001b[0;36m0\u001b[0m\u001b[0;34m:\u001b[0m\u001b[0;34m\u001b[0m\u001b[0m\n\u001b[1;32m      6\u001b[0m         \u001b[0mwalk_shapes\u001b[0m\u001b[0;34m.\u001b[0m\u001b[0mappend\u001b[0m\u001b[0;34m(\u001b[0m\u001b[0mshape\u001b[0m\u001b[0;34m)\u001b[0m\u001b[0;34m\u001b[0m\u001b[0m\n",
      "\u001b[0;31mKeyError\u001b[0m: 'start_location'"
     ]
    }
   ],
   "source": [
    "bus_shapes = []\n",
    "walk_shapes = []\n",
    "for t in itinerary:\n",
    "    shape = (t['start_location'], t['end_location'])\n",
    "    if t['mode'] == 0:\n",
    "        walk_shapes.append(shape)\n",
    "    else:\n",
    "        bus_shapes.append(shape)\n",
    "\n",
    "colors = ['red', 'blue', 'green']\n",
    "def plot_shape(mapp, shape, c='red', w=5):\n",
    "    for point in shape:\n",
    "        folium.CircleMarker(point, color=c, fill_color=c, radius=w, fill_opacity=0.8).add_to(mapp)\n",
    "    folium.PolyLine(shape, color=c, weight=w, opacity=0.8).add_to(mapp)\n",
    "  \n",
    "center = walk_shapes[0][0]\n",
    "mapp = folium.Map(location=center, zoom_start=17)\n",
    "for shape in bus_shapes:\n",
    "    plot_shape(mapp, shape, colors[1], 5)\n",
    "    \n",
    "for shape in walk_shapes:\n",
    "    plot_shape(mapp, shape, colors[0], 5)\n",
    "mapp"
   ]
  },
  {
   "cell_type": "code",
   "execution_count": null,
   "metadata": {},
   "outputs": [],
   "source": []
  },
  {
   "cell_type": "code",
   "execution_count": null,
   "metadata": {},
   "outputs": [],
   "source": []
  }
 ],
 "metadata": {
  "kernelspec": {
   "display_name": "Python 2",
   "language": "python",
   "name": "python2"
  }
 },
 "nbformat": 4,
 "nbformat_minor": 2
}
